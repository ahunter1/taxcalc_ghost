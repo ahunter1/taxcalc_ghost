{
 "cells": [
  {
   "cell_type": "markdown",
   "metadata": {},
   "source": [
    "# Introduction "
   ]
  },
  {
   "cell_type": "markdown",
   "metadata": {},
   "source": [
    "Hello"
   ]
  },
  {
   "cell_type": "code",
   "execution_count": 122,
   "metadata": {
    "collapsed": false
   },
   "outputs": [],
   "source": [
    "import sys\n",
    "sys.path.append(\"../../\")\n",
    "from taxcalc import *\n",
    "import pandas as pd\n",
    "import numpy as np\n",
    "import copy\n",
    "import matplotlib\n",
    "import matplotlib.pyplot as plt \n",
    "from matplotlib.transforms import BlendedGenericTransform\n",
    "%matplotlib inline"
   ]
  },
  {
   "cell_type": "code",
   "execution_count": 123,
   "metadata": {
    "collapsed": true
   },
   "outputs": [],
   "source": [
    "def print_full(x):\n",
    "    pd.set_option('display.max_rows', len(x))\n",
    "    print(x)\n",
    "    pd.reset_option('display.max_rows')"
   ]
  },
  {
   "cell_type": "code",
   "execution_count": 124,
   "metadata": {
    "collapsed": false
   },
   "outputs": [],
   "source": [
    "records_x = Records(\"../../puf.csv\")\n",
    "params_x = Policy()\n",
    "records_baseline = Records(\"../../puf.csv\")\n",
    "params_baseline = Policy()\n",
    "records_y_std = Records(\"../../puf.csv\")\n",
    "params_y_std = Policy()\n",
    "records_y_rates = Records(\"../../puf.csv\")\n",
    "records_y_rates_low = Records(\"../../puf.csv\")\n",
    "params_y_rates = Policy()\n",
    "params_y_rates_low = Policy()\n",
    "behavior_std = Behavior()\n",
    "behavior_rates = Behavior()\n",
    "behavior_rates_low = Behavior()\n",
    "behavior_x = Behavior()\n",
    "records_y_rates_high = Records(\"../../puf.csv\")\n",
    "params_y_rates_high = Policy()\n",
    "behavior_rates_high = Behavior()\n"
   ]
  },
  {
   "cell_type": "markdown",
   "metadata": {},
   "source": [
    "## Implement Reforms"
   ]
  },
  {
   "cell_type": "code",
   "execution_count": 125,
   "metadata": {
    "collapsed": false
   },
   "outputs": [],
   "source": [
    "reform_std = {\n",
    "    2016: {\n",
    "            '_STD': [[12600, 25200, 12600, 18600, 25300, 12600, 2100]],\n",
    "            '_AMT_trt1': [.0],\n",
    "            '_AMT_trt2': [.0]\n",
    "           },}\n",
    "\n",
    "\n",
    "reform_rates = {\n",
    "    2016: {\n",
    "            '_II_brk2': [[65005, 130010, 65005, 88180, 130010, 65005]],\n",
    "            '_AMT_trt1': [.0],\n",
    "            '_AMT_trt2': [.0]\n",
    "       }, }\n",
    "\n",
    "reform_rates_low = {\n",
    "    2016: {\n",
    "           '_II_brk1': [[27825, 55650, 27825, 39750, 55650, 27825]],\n",
    "           '_AMT_trt1': [.0],\n",
    "           '_AMT_trt2': [.0]\n",
    "       }, }\n",
    "\n",
    "reform_x = {\n",
    "    2016: {\n",
    "            '_AMT_trt1': [.0],\n",
    "           '_AMT_trt2': [.0]\n",
    "    },\n",
    "}\n",
    "\n",
    "reform_rates_high = {\n",
    "    2016: {\n",
    "            '_II_rt5': [.2875],\n",
    "            '_II_rt7': [.2875],\n",
    "            '_II_rt6': [.2875],\n",
    "            '_AMT_trt1': [.0],\n",
    "            '_AMT_trt2': [.0]\n",
    "       }, }\n",
    "\n",
    "params_x.implement_reform(reform_x)\n",
    "params_y_std.implement_reform(reform_std)\n",
    "params_y_rates.implement_reform(reform_rates)\n",
    "params_y_rates_low.implement_reform(reform_rates_low)\n",
    "params_y_rates_high.implement_reform(reform_rates_high)"
   ]
  },
  {
   "cell_type": "markdown",
   "metadata": {},
   "source": [
    "### Create Calculators, increment years, calculate taxes"
   ]
  },
  {
   "cell_type": "code",
   "execution_count": 126,
   "metadata": {
    "collapsed": false
   },
   "outputs": [
    {
     "name": "stdout",
     "output_type": "stream",
     "text": [
      "You loaded data for 2009.\n",
      "Your data have been extrapolated to 2013.\n"
     ]
    }
   ],
   "source": [
    "calc_x = Calculator(params_x, records_x, behavior_x)\n",
    "for i in range(4):\n",
    "    calc_x.increment_year()\n",
    "assert calc_x.current_year == 2017"
   ]
  },
  {
   "cell_type": "code",
   "execution_count": 127,
   "metadata": {
    "collapsed": false
   },
   "outputs": [
    {
     "name": "stdout",
     "output_type": "stream",
     "text": [
      "You loaded data for 2009.\n",
      "Your data have been extrapolated to 2013.\n"
     ]
    }
   ],
   "source": [
    "calc_baseline = Calculator(params_baseline, records_baseline)\n",
    "for i in range(4):\n",
    "    calc_baseline.increment_year()\n",
    "assert calc_baseline.current_year == 2017"
   ]
  },
  {
   "cell_type": "code",
   "execution_count": 128,
   "metadata": {
    "collapsed": false,
    "scrolled": true
   },
   "outputs": [
    {
     "name": "stdout",
     "output_type": "stream",
     "text": [
      "You loaded data for 2009.\n",
      "Your data have been extrapolated to 2013.\n"
     ]
    }
   ],
   "source": [
    "calc_y_std = Calculator(params_y_std, records_y_std, behavior = behavior_std)\n",
    "for i in range(4):\n",
    "    calc_y_std.increment_year()\n",
    "assert calc_x.current_year == 2017"
   ]
  },
  {
   "cell_type": "code",
   "execution_count": 129,
   "metadata": {
    "collapsed": false
   },
   "outputs": [
    {
     "name": "stdout",
     "output_type": "stream",
     "text": [
      "You loaded data for 2009.\n",
      "Your data have been extrapolated to 2013.\n"
     ]
    }
   ],
   "source": [
    "calc_y_rates = Calculator(params_y_rates, records_y_rates, behavior =  behavior_rates)\n",
    "for i in range(4):\n",
    "    calc_y_rates.increment_year()\n",
    "assert calc_y_rates.current_year == 2017"
   ]
  },
  {
   "cell_type": "code",
   "execution_count": 130,
   "metadata": {
    "collapsed": false
   },
   "outputs": [
    {
     "name": "stdout",
     "output_type": "stream",
     "text": [
      "You loaded data for 2009.\n",
      "Your data have been extrapolated to 2013.\n"
     ]
    }
   ],
   "source": [
    "calc_y_rates_low = Calculator(params_y_rates_low, records_y_rates_low, behavior =  behavior_rates_low)\n",
    "for i in range(4):\n",
    "    calc_y_rates_low.increment_year()\n",
    "assert calc_y_rates_low.current_year == 2017"
   ]
  },
  {
   "cell_type": "code",
   "execution_count": 131,
   "metadata": {
    "collapsed": false
   },
   "outputs": [
    {
     "name": "stdout",
     "output_type": "stream",
     "text": [
      "You loaded data for 2009.\n",
      "Your data have been extrapolated to 2013.\n"
     ]
    }
   ],
   "source": [
    "calc_y_rates_high = Calculator(params_y_rates_high, records_y_rates_high, behavior =  behavior_rates_high)\n",
    "for i in range(4):\n",
    "    calc_y_rates_high.increment_year()\n",
    "assert calc_y_rates_high.current_year == 2017"
   ]
  },
  {
   "cell_type": "code",
   "execution_count": 132,
   "metadata": {
    "collapsed": false
   },
   "outputs": [],
   "source": [
    "calc_x.calc_all()\n",
    "calc_y_std.calc_all()\n",
    "calc_y_rates.calc_all()\n",
    "calc_y_rates_low.calc_all()\n",
    "calc_y_rates_high.calc_all()\n",
    "calc_baseline.calc_all()"
   ]
  },
  {
   "cell_type": "markdown",
   "metadata": {},
   "source": [
    "# Static Change. "
   ]
  },
  {
   "cell_type": "markdown",
   "metadata": {},
   "source": [
    "### Revenue Change (billions)"
   ]
  },
  {
   "cell_type": "code",
   "execution_count": 133,
   "metadata": {
    "collapsed": false
   },
   "outputs": [
    {
     "name": "stdout",
     "output_type": "stream",
     "text": [
      "-99.2837104996\n",
      "-107.849214469\n",
      "-97.1361587879\n",
      "-105.427207743\n"
     ]
    }
   ],
   "source": [
    "calc_x_combined = (calc_x.records._combined * calc_x.records.s006).sum()\n",
    "calc_y_std_combined = (calc_y_std.records._combined * calc_y_std.records.s006).sum()\n",
    "calc_y_rates_combined = (calc_y_rates.records._combined * calc_y_rates.records.s006).sum()\n",
    "calc_y_rates_low_combined = (calc_y_rates_low.records._combined * calc_y_rates_low.records.s006).sum()\n",
    "calc_y_rates_high_combined = (calc_y_rates_high.records._combined * calc_y_rates_high.records.s006).sum()\n",
    "std_rev_diff_static = (calc_y_std_combined - calc_x_combined)/1000000000\n",
    "rates_rev_diff_static = (calc_y_rates_combined - calc_x_combined)/1000000000\n",
    "rates_low_rev_diff_static = (calc_y_rates_low_combined - calc_x_combined)/1000000000\n",
    "rates_high_rev_diff_static = (calc_y_rates_high_combined - calc_x_combined)/1000000000\n",
    "print std_rev_diff_static\n",
    "print rates_rev_diff_static\n",
    "print rates_low_rev_diff_static\n",
    "print rates_high_rev_diff_static\n"
   ]
  },
  {
   "cell_type": "markdown",
   "metadata": {},
   "source": [
    "# Create Behavioral Calculators"
   ]
  },
  {
   "cell_type": "code",
   "execution_count": 134,
   "metadata": {
    "collapsed": false
   },
   "outputs": [],
   "source": [
    "behavior_std.update_behavior({2017: {'_BE_inc': [0], '_BE_sub': [0.3]}})\n",
    "behavior_rates.update_behavior({2017: {'_BE_inc': [0], '_BE_sub': [0.3]}})\n",
    "behavior_rates_low.update_behavior({2017: {'_BE_inc': [0], '_BE_sub': [0.3]}})\n",
    "behavior_x.update_behavior({2017: {'_BE_inc': [0], '_BE_sub': [0.3]}})\n",
    "behavior_rates_high.update_behavior({2017: {'_BE_inc': [0], '_BE_sub': [0.3]}})"
   ]
  },
  {
   "cell_type": "markdown",
   "metadata": {},
   "source": [
    "Note that I include behavior when we repeal the AMT. "
   ]
  },
  {
   "cell_type": "code",
   "execution_count": 135,
   "metadata": {
    "collapsed": false
   },
   "outputs": [],
   "source": [
    "calc_x = behavior(calc_baseline, calc_x)\n",
    "calc_y_std_beh = behavior(calc_x, calc_y_std)\n",
    "calc_y_rates_beh = behavior(calc_x, calc_y_rates)\n",
    "calc_y_rates_low_beh = behavior(calc_x, calc_y_rates_low)\n",
    "calc_y_rates_high_beh = behavior(calc_x, calc_y_rates_high)\n",
    "calc_y_std_beh.calc_all()\n",
    "calc_y_rates_beh.calc_all()\n",
    "calc_y_rates_low_beh.calc_all()\n",
    "calc_y_rates_high_beh.calc_all()"
   ]
  },
  {
   "cell_type": "markdown",
   "metadata": {},
   "source": [
    "# Behavioral Change\n"
   ]
  },
  {
   "cell_type": "markdown",
   "metadata": {},
   "source": [
    "### Revenue change (billions)"
   ]
  },
  {
   "cell_type": "code",
   "execution_count": 136,
   "metadata": {
    "collapsed": false,
    "scrolled": true
   },
   "outputs": [
    {
     "name": "stdout",
     "output_type": "stream",
     "text": [
      "-94.5604514586\n",
      "-94.8804773821\n",
      "-94.0380911162\n",
      "-72.2097011449\n"
     ]
    }
   ],
   "source": [
    "calc_x_combined = (calc_x.records._combined * calc_x.records.s006)\n",
    "calc_y_std_beh_combined = (calc_y_std_beh.records._combined * calc_y_std_beh.records.s006)\n",
    "calc_y_rates_beh_combined = (calc_y_rates_beh.records._combined * calc_y_rates_beh.records.s006)\n",
    "calc_y_rates_low_beh_combined = (calc_y_rates_low_beh.records._combined * calc_y_rates_beh.records.s006)\n",
    "calc_y_rates_high_beh_combined = (calc_y_rates_high_beh.records._combined * calc_y_rates_high_beh.records.s006)\n",
    "rev_diff_std = (calc_y_std_beh_combined - calc_x_combined).sum()/1000000000\n",
    "rev_diff_rates = (calc_y_rates_beh_combined - calc_x_combined).sum()/1000000000\n",
    "rev_diff_rates_low = (calc_y_rates_low_beh_combined - calc_x_combined).sum()/1000000000\n",
    "rev_diff_rates_high = (calc_y_rates_high_beh_combined - calc_x_combined).sum()/1000000000\n",
    "print rev_diff_std\n",
    "print rev_diff_rates\n",
    "print rev_diff_rates_low\n",
    "print rev_diff_rates_high"
   ]
  },
  {
   "cell_type": "markdown",
   "metadata": {},
   "source": [
    "###    # Tax cut (millions)"
   ]
  },
  {
   "cell_type": "code",
   "execution_count": 137,
   "metadata": {
    "collapsed": false
   },
   "outputs": [
    {
     "name": "stdout",
     "output_type": "stream",
     "text": [
      "86.3201124221\n",
      "34.7611245553\n",
      "83.7762158179\n"
     ]
    }
   ],
   "source": [
    "num_tax_cut_std = calc_x.records.s006[calc_x.records._combined > calc_y_std_beh.records._combined + .0001].sum()\n",
    "num_tax_cut_rates = calc_x.records.s006[calc_x.records._combined > calc_y_rates_beh.records._combined + .00001].sum()\n",
    "num_tax_cut_rates_low = calc_x.records.s006[calc_x.records._combined > calc_y_rates_low_beh.records._combined + .00001].sum()\n",
    "print num_tax_cut_std/1000000\n",
    "print num_tax_cut_rates/1000000\n",
    "print num_tax_cut_rates_low/1000000"
   ]
  },
  {
   "cell_type": "markdown",
   "metadata": {},
   "source": [
    "### # Tax cut if 20k < AGI < 200k (millions)"
   ]
  },
  {
   "cell_type": "code",
   "execution_count": 138,
   "metadata": {
    "collapsed": false
   },
   "outputs": [
    {
     "name": "stdout",
     "output_type": "stream",
     "text": [
      "72.9253826453\n",
      "27.3498854844\n",
      "75.8089487903\n"
     ]
    }
   ],
   "source": [
    "num_tax_cut_std_MI = calc_x.records.s006[(calc_x.records._combined > calc_y_std_beh.records._combined + .0001) &\n",
    "                                         (calc_x.records.c00100>20000) &\n",
    "                                         (calc_x.records.c00100<200000)].sum()\n",
    "num_tax_cut_rates_MI = calc_x.records.s006[(calc_x.records._combined > calc_y_rates_beh.records._combined + .00001)  &\n",
    "                                         (calc_x.records.c00100>20000) &\n",
    "                                         (calc_x.records.c00100<200000)].sum()\n",
    "num_tax_cut_rates_low_MI = calc_x.records.s006[(calc_x.records._combined > calc_y_rates_low_beh.records._combined + .00001)  &\n",
    "                                         (calc_x.records.c00100>20000) &\n",
    "                                         (calc_x.records.c00100<200000)].sum()\n",
    "print num_tax_cut_std_MI/1000000\n",
    "print num_tax_cut_rates_MI/1000000\n",
    "print num_tax_cut_rates_low_MI/1000000"
   ]
  },
  {
   "cell_type": "markdown",
   "metadata": {},
   "source": [
    "### %Tax cut"
   ]
  },
  {
   "cell_type": "code",
   "execution_count": 139,
   "metadata": {
    "collapsed": false
   },
   "outputs": [
    {
     "name": "stdout",
     "output_type": "stream",
     "text": [
      "0.500696676263\n",
      "0.201630640179\n",
      "0.485940896425\n"
     ]
    }
   ],
   "source": [
    "num_total_filers = calc_x.records.s006.sum()\n",
    "pct_cut_std = num_tax_cut_std/num_total_filers\n",
    "pct_cut_rates = num_tax_cut_rates/num_total_filers\n",
    "pct_cut_rates_low = num_tax_cut_rates_low/num_total_filers\n",
    "print pct_cut_std\n",
    "print pct_cut_rates\n",
    "print pct_cut_rates_low"
   ]
  },
  {
   "cell_type": "markdown",
   "metadata": {},
   "source": [
    "### Itemizers after reforms (millions)"
   ]
  },
  {
   "cell_type": "code",
   "execution_count": 140,
   "metadata": {
    "collapsed": false
   },
   "outputs": [
    {
     "name": "stdout",
     "output_type": "stream",
     "text": [
      "24.7015676289\n",
      "45.811973378\n",
      "45.8177395141\n"
     ]
    }
   ],
   "source": [
    "num_total_itemizers_x = calc_x.records.s006[((calc_x.records.c04470 > 0) &\n",
    "                                             (calc_x.records.c00100 > 0))].sum() \n",
    "num_total_itemizers_std = calc_x.records.s006[((calc_y_std_beh.records.c04470 > 0) &\n",
    "                                               (calc_y_std_beh.records.c00100 > 0))].sum() \n",
    "num_total_itemizers_rates = calc_x.records.s006[((calc_y_rates_beh.records.c04470 > 0) &\n",
    "                                                 (calc_y_rates_beh.records.c00100 > 0))].sum() \n",
    "num_total_itemizers_rates_low = calc_x.records.s006[((calc_y_rates_low_beh.records.c04470 > 0) &\n",
    "                                                     (calc_y_rates_low_beh.records.c00100 > 0))].sum() \n",
    "\n",
    "print num_total_itemizers_std/1000000\n",
    "print num_total_itemizers_rates/1000000\n",
    "print num_total_itemizers_rates_low/1000000"
   ]
  },
  {
   "cell_type": "markdown",
   "metadata": {},
   "source": [
    "### Itemizers after standard deduction reform AGI > 200k (millions)"
   ]
  },
  {
   "cell_type": "code",
   "execution_count": 141,
   "metadata": {
    "collapsed": false
   },
   "outputs": [
    {
     "name": "stdout",
     "output_type": "stream",
     "text": [
      "6.34756518008\n"
     ]
    }
   ],
   "source": [
    "print calc_x.records.s006[((calc_y_std_beh.records.c04470 > 0) & (calc_y_std_beh.records.c00100 > 200000))].sum()/1000000"
   ]
  },
  {
   "cell_type": "markdown",
   "metadata": {},
   "source": [
    "### Itemizers after standard deduction reform AGI > 100k (millions)"
   ]
  },
  {
   "cell_type": "code",
   "execution_count": 142,
   "metadata": {
    "collapsed": false
   },
   "outputs": [
    {
     "name": "stdout",
     "output_type": "stream",
     "text": [
      "15.394385215\n"
     ]
    }
   ],
   "source": [
    "print calc_x.records.s006[((calc_y_std_beh.records.c04470 > 0) & (calc_y_std_beh.records.c00100 > 100000))].sum()/1000000"
   ]
  },
  {
   "cell_type": "markdown",
   "metadata": {},
   "source": [
    "### Delta itemizers (millions)"
   ]
  },
  {
   "cell_type": "code",
   "execution_count": 143,
   "metadata": {
    "collapsed": false
   },
   "outputs": [
    {
     "name": "stdout",
     "output_type": "stream",
     "text": [
      "-21.1247482553\n",
      "-0.0143425061661\n",
      "-0.00857637010686\n"
     ]
    }
   ],
   "source": [
    "\n",
    "itemizers_diff_std = num_total_itemizers_std - num_total_itemizers_x\n",
    "itemizers_diff_rates = num_total_itemizers_rates - num_total_itemizers_x\n",
    "itemizers_diff_rates_low = num_total_itemizers_rates_low - num_total_itemizers_x\n",
    "\n",
    "print itemizers_diff_std/1000000\n",
    "print itemizers_diff_rates/1000000\n",
    "print itemizers_diff_rates_low/1000000"
   ]
  },
  {
   "cell_type": "markdown",
   "metadata": {},
   "source": [
    "### Itemizers after reforms 20k < AGI < 200k(millions)"
   ]
  },
  {
   "cell_type": "code",
   "execution_count": 144,
   "metadata": {
    "collapsed": false
   },
   "outputs": [
    {
     "name": "stdout",
     "output_type": "stream",
     "text": [
      "18.1794168708\n",
      "37.5270141121\n",
      "37.5326006717\n"
     ]
    }
   ],
   "source": [
    "num_total_itemizers_x_MI = calc_x.records.s006[((calc_x.records.c04470 > 0) &\n",
    "                                             (calc_x.records.c00100 > 0) &\n",
    "                                             (calc_x.records.c00100>20000) &\n",
    "                                             (calc_x.records.c00100<200000))].sum() \n",
    "num_total_itemizers_std_MI = calc_x.records.s006[((calc_y_std_beh.records.c04470 > 0) &\n",
    "                                               (calc_y_std_beh.records.c00100 > 0)  &\n",
    "                                               (calc_x.records.c00100>20000) &\n",
    "                                               (calc_x.records.c00100<200000))].sum() \n",
    "num_total_itemizers_rates_MI = calc_x.records.s006[((calc_y_rates_beh.records.c04470 > 0) &\n",
    "                                                 (calc_y_rates_beh.records.c00100 > 0) &\n",
    "                                                 (calc_x.records.c00100>20000) &\n",
    "                                                 (calc_x.records.c00100<200000))].sum() \n",
    "num_total_itemizers_rates_low_MI = calc_x.records.s006[((calc_y_rates_low_beh.records.c04470 > 0) &\n",
    "                                                     (calc_y_rates_low_beh.records.c00100 > 0)  &\n",
    "                                                     (calc_x.records.c00100>20000) &\n",
    "                                                     (calc_x.records.c00100<200000))].sum() \n",
    "\n",
    "print num_total_itemizers_std_MI/1000000\n",
    "print num_total_itemizers_rates_MI/1000000\n",
    "print num_total_itemizers_rates_low_MI/1000000"
   ]
  },
  {
   "cell_type": "markdown",
   "metadata": {},
   "source": [
    "### Delta itemizers 20k < AGI < 200k (millions)"
   ]
  },
  {
   "cell_type": "code",
   "execution_count": 145,
   "metadata": {
    "collapsed": false
   },
   "outputs": [
    {
     "name": "stdout",
     "output_type": "stream",
     "text": [
      "-19.3617601711\n",
      "-0.0141629297075\n",
      "-0.00857637010685\n"
     ]
    }
   ],
   "source": [
    "\n",
    "itemizers_diff_std_MI = num_total_itemizers_std_MI - num_total_itemizers_x_MI\n",
    "itemizers_diff_rates_MI = num_total_itemizers_rates_MI - num_total_itemizers_x_MI\n",
    "itemizers_diff_rates_low_MI = num_total_itemizers_rates_low_MI - num_total_itemizers_x_MI\n",
    "\n",
    "print itemizers_diff_std_MI/1000000\n",
    "print itemizers_diff_rates_MI/1000000\n",
    "print itemizers_diff_rates_low_MI/1000000"
   ]
  },
  {
   "cell_type": "markdown",
   "metadata": {},
   "source": [
    "### Delta AMT filers (millions)"
   ]
  },
  {
   "cell_type": "code",
   "execution_count": 146,
   "metadata": {
    "collapsed": false
   },
   "outputs": [
    {
     "name": "stdout",
     "output_type": "stream",
     "text": [
      "0.0\n",
      "0.0\n",
      "0.0\n"
     ]
    }
   ],
   "source": [
    "num_total_amt_filers_x = calc_x.records.s006[calc_x.records.c09600 > 0].sum()\n",
    "num_total_amt_filers_std = calc_x.records.s006[calc_y_std_beh.records.c09600>0].sum()\n",
    "num_total_amt_filers_rates = calc_x.records.s006[calc_y_rates_beh.records.c09600>0].sum()\n",
    "num_total_amt_filers_rates_low = calc_x.records.s006[calc_y_rates_low_beh.records.c09600>0].sum()\n",
    "\n",
    "amt_filers_diff_std = num_total_amt_filers_std - num_total_amt_filers_x\n",
    "amt_filers_diff_rates = num_total_amt_filers_rates - num_total_amt_filers_x\n",
    "amt_filers_diff_rates_low = num_total_amt_filers_rates_low - num_total_amt_filers_x\n",
    "\n",
    "print amt_filers_diff_std/1000000\n",
    "print amt_filers_diff_rates/1000000\n",
    "print amt_filers_diff_rates_low/1000000"
   ]
  },
  {
   "cell_type": "markdown",
   "metadata": {},
   "source": [
    "### Delta AMT liability (billions)"
   ]
  },
  {
   "cell_type": "code",
   "execution_count": 147,
   "metadata": {
    "collapsed": false
   },
   "outputs": [
    {
     "name": "stdout",
     "output_type": "stream",
     "text": [
      "0.0\n",
      "0.0\n",
      "0.0\n"
     ]
    }
   ],
   "source": [
    "total_amt_x = (calc_x.records.s006 * calc_x.records.c09600).sum()\n",
    "total_amt_std = (calc_y_std_beh.records.s006 * calc_y_std_beh.records.c09600).sum()\n",
    "total_amt_rates = (calc_y_rates_beh.records.s006 * calc_y_rates_beh.records.c09600).sum()\n",
    "total_amt_rates_low = (calc_y_rates_low_beh.records.s006 * calc_y_rates_low_beh.records.c09600).sum()\n",
    "\n",
    "amt_diff_std = total_amt_std - total_amt_x\n",
    "amt_diff_rates = total_amt_rates - total_amt_x\n",
    "amt_diff_rates_low = total_amt_rates_low - total_amt_x\n",
    "\n",
    "print amt_diff_std/1000000000\n",
    "print amt_diff_rates/1000000000\n",
    "print amt_diff_rates_low/1000000000"
   ]
  },
  {
   "cell_type": "markdown",
   "metadata": {},
   "source": [
    "### # Taxpayers with primary earner's wage/salary earnings marginal tax rates (FICA + IIT) lower by more than 100th of a percent (millions)"
   ]
  },
  {
   "cell_type": "markdown",
   "metadata": {},
   "source": [
    "##### Alex, this is a bit confusing to me. I think what is happening is that a lot of people's total income falls below the new std deduction and so when we add a penny to their income they are still able to deduct everything. "
   ]
  },
  {
   "cell_type": "code",
   "execution_count": 148,
   "metadata": {
    "collapsed": true
   },
   "outputs": [],
   "source": [
    "mtr_fica_x, mtr_iit_x, mtr_combined_x = calc_x.mtr()\n",
    "mtr_fica_std, mtr_iit_std, mtr_combined_std = calc_y_std.mtr()\n",
    "mtr_fica_rates, mtr_iit_rates, mtr_combined_rates = calc_y_rates.mtr()\n",
    "mtr_fica_rates_low, mtr_iit_rates_low, mtr_combined_rates_low = calc_y_rates_low.mtr()\n",
    "mtr_fica_rates_high, mtr_iit_rates_high, mtr_combined_rates_high = calc_y_rates_high.mtr()"
   ]
  },
  {
   "cell_type": "code",
   "execution_count": 149,
   "metadata": {
    "collapsed": false
   },
   "outputs": [
    {
     "name": "stdout",
     "output_type": "stream",
     "text": [
      "38.6069332154\n",
      "22.9009422202\n",
      "33.776802296\n"
     ]
    }
   ],
   "source": [
    "num_mtr_cut_std = calc_x.records.s006[mtr_combined_x > mtr_combined_std + .0001].sum()\n",
    "num_mtr_cut_rates = calc_x.records.s006[mtr_combined_x > mtr_combined_rates + .0001].sum()\n",
    "num_mtr_cut_rates_low = calc_x.records.s006[mtr_combined_x > mtr_combined_rates_low + .0001].sum()\n",
    "print num_mtr_cut_std/1000000\n",
    "print num_mtr_cut_rates/1000000\n",
    "print num_mtr_cut_rates_low/1000000"
   ]
  },
  {
   "cell_type": "markdown",
   "metadata": {},
   "source": [
    "### # Taxpayers with primary earner's wage/salary earnings marginal tax rates (FICA + IIT)\n",
    "### lower by more than 100th of a percent \n",
    "### 20K < AGI < 200k (millions)"
   ]
  },
  {
   "cell_type": "code",
   "execution_count": 150,
   "metadata": {
    "collapsed": false
   },
   "outputs": [
    {
     "name": "stdout",
     "output_type": "stream",
     "text": [
      "28.8602654299\n",
      "22.648725494\n",
      "33.19620739\n"
     ]
    }
   ],
   "source": [
    "num_mtr_cut_std_MI = calc_x.records.s006[(mtr_combined_x > mtr_combined_std + .0001) &\n",
    "                                             (calc_x.records.c00100>20000) &\n",
    "                                             (calc_x.records.c00100<200000)].sum()\n",
    "num_mtr_cut_rates_MI = calc_x.records.s006[(mtr_combined_x > mtr_combined_rates + .0001) &\n",
    "                                             (calc_x.records.c00100>20000) &\n",
    "                                             (calc_x.records.c00100<200000)].sum()\n",
    "num_mtr_cut_rates_low_MI = calc_x.records.s006[(mtr_combined_x > mtr_combined_rates_low + .0001) &\n",
    "                                             (calc_x.records.c00100>20000) &\n",
    "                                             (calc_x.records.c00100<200000)].sum()\n",
    "print num_mtr_cut_std_MI/1000000\n",
    "print num_mtr_cut_rates_MI/1000000\n",
    "print num_mtr_cut_rates_low_MI/1000000"
   ]
  },
  {
   "cell_type": "markdown",
   "metadata": {},
   "source": [
    "### # Taxpayers with a 0% Individual Income Tax mtr"
   ]
  },
  {
   "cell_type": "code",
   "execution_count": 151,
   "metadata": {
    "collapsed": false
   },
   "outputs": [
    {
     "name": "stdout",
     "output_type": "stream",
     "text": [
      "31.651417206\n",
      "41.1502130237\n",
      "31.6670697292\n",
      "31.974908001\n"
     ]
    }
   ],
   "source": [
    "num_iit_mtr_zero_x = calc_x.records.s006[mtr_iit_x == 0].sum()\n",
    "num_iit_mtr_zero_std = calc_x.records.s006[mtr_iit_std == 0].sum()\n",
    "num_iit_mtr_zero_rates = calc_x.records.s006[mtr_iit_rates == 0].sum()\n",
    "num_iit_mtr_zero_rates_low = calc_x.records.s006[mtr_iit_rates_low == 0].sum()\n",
    "\n",
    "print num_iit_mtr_zero_x/1000000\n",
    "print num_iit_mtr_zero_std/1000000\n",
    "print num_iit_mtr_zero_rates/1000000\n",
    "print num_iit_mtr_zero_rates_low/1000000"
   ]
  },
  {
   "cell_type": "markdown",
   "metadata": {},
   "source": [
    "### Average MTR on wage inome for primary earners (FICA + IIT) \n",
    "##### This makes a bit more sense. "
   ]
  },
  {
   "cell_type": "code",
   "execution_count": 152,
   "metadata": {
    "collapsed": false
   },
   "outputs": [
    {
     "name": "stdout",
     "output_type": "stream",
     "text": [
      "0.362062734667\n",
      "0.352144196182\n",
      "0.341043780964\n",
      "0.353948182846\n",
      "0.341350384255\n"
     ]
    }
   ],
   "source": [
    "avg_mtr_combined_x = ((mtr_combined_x * calc_x.records.c00100 * calc_x.records.s006).sum()/\n",
    "                      (calc_x.records.c00100 * calc_x.records.s006).sum())\n",
    "avg_mtr_combined_std = ((mtr_combined_std * calc_x.records.c00100 * calc_x.records.s006).sum()/\n",
    "                        (calc_x.records.c00100 * calc_x.records.s006).sum())\n",
    "avg_mtr_combined_rates = ((mtr_combined_rates * calc_x.records.c00100 * calc_x.records.s006).sum()/\n",
    "                          (calc_x.records.c00100 * calc_x.records.s006).sum())\n",
    "avg_mtr_combined_rates_low = ((mtr_combined_rates_low * calc_x.records.c00100 * calc_x.records.s006).sum()/\n",
    "                              (calc_x.records.c00100 * calc_x.records.s006).sum())\n",
    "avg_mtr_combined_rates_high = ((mtr_combined_rates_high * calc_x.records.c00100 * calc_x.records.s006).sum()/\n",
    "                              (calc_x.records.c00100 * calc_x.records.s006).sum())\n",
    "print avg_mtr_combined_x\n",
    "print avg_mtr_combined_std\n",
    "print avg_mtr_combined_rates\n",
    "print avg_mtr_combined_rates_low\n",
    "print avg_mtr_combined_rates_high\n"
   ]
  },
  {
   "cell_type": "markdown",
   "metadata": {},
   "source": [
    "### Difference in avg MTR between plan X and plan Y"
   ]
  },
  {
   "cell_type": "code",
   "execution_count": 153,
   "metadata": {
    "collapsed": false
   },
   "outputs": [
    {
     "name": "stdout",
     "output_type": "stream",
     "text": [
      "0.00991853848568\n",
      "0.0210189537036\n",
      "0.00811455182157\n",
      "0.0207123504128\n"
     ]
    }
   ],
   "source": [
    "diff_avg_mtr_combined_std = avg_mtr_combined_x - avg_mtr_combined_std\n",
    "diff_avg_mtr_combined_rates = avg_mtr_combined_x - avg_mtr_combined_rates\n",
    "diff_avg_mtr_combined_rates_low = avg_mtr_combined_x - avg_mtr_combined_rates_low\n",
    "diff_avg_mtr_combined_rates_high = avg_mtr_combined_x - avg_mtr_combined_rates_high\n",
    "\n",
    "print diff_avg_mtr_combined_std\n",
    "print diff_avg_mtr_combined_rates\n",
    "print diff_avg_mtr_combined_rates_low\n",
    "print diff_avg_mtr_combined_rates_high"
   ]
  },
  {
   "cell_type": "markdown",
   "metadata": {},
   "source": [
    "### GDP effect in the following year using Barro and Redlick 2011"
   ]
  },
  {
   "cell_type": "code",
   "execution_count": 154,
   "metadata": {
    "collapsed": false
   },
   "outputs": [
    {
     "name": "stdout",
     "output_type": "stream",
     "text": [
      "0.00535601078227\n",
      "0.0113502349999\n",
      "0.00438185798365\n",
      "0.0111846692229\n"
     ]
    }
   ],
   "source": [
    "gdp_effect_BR_std = diff_avg_mtr_combined_std * .54\n",
    "gdp_effect_BR_rates = diff_avg_mtr_combined_rates * .54\n",
    "gdp_effect_BR_rates_low = diff_avg_mtr_combined_rates_low * .54\n",
    "gdp_effect_BR_rates_high = diff_avg_mtr_combined_rates_high * .54\n",
    "\n",
    "print gdp_effect_BR_std\n",
    "print gdp_effect_BR_rates\n",
    "print gdp_effect_BR_rates_low\n",
    "print gdp_effect_BR_rates_high"
   ]
  },
  {
   "cell_type": "markdown",
   "metadata": {},
   "source": [
    "### Taxpayers with 20K < AGI < 200k"
   ]
  },
  {
   "cell_type": "code",
   "execution_count": 155,
   "metadata": {
    "collapsed": false
   },
   "outputs": [
    {
     "name": "stdout",
     "output_type": "stream",
     "text": [
      "96.5353118202\n"
     ]
    }
   ],
   "source": [
    "num_middle_income = calc_x.records.s006[\n",
    "                                      (calc_x.records.c00100>20000) &\n",
    "                                      (calc_x.records.c00100<200000)].sum()\n",
    "\n",
    "print num_middle_income/1000000"
   ]
  },
  {
   "cell_type": "markdown",
   "metadata": {},
   "source": [
    "### # taxpayers paying federal individual income tax < = 0\n",
    "##### Note that these numbers are quite a bit lower than TPC's (75mm, 2015). I'm not sure why yet but am looking into it (I think it might have something to do with filers/non-filers). Perhaps just use the deltas for now since the totals are extremely newsworthy (...47%) "
   ]
  },
  {
   "cell_type": "code",
   "execution_count": 156,
   "metadata": {
    "collapsed": false
   },
   "outputs": [
    {
     "name": "stdout",
     "output_type": "stream",
     "text": [
      "70.3927673184\n",
      "80.4484397919\n",
      "70.4580388962\n",
      "71.2500178479\n"
     ]
    }
   ],
   "source": [
    "num_no_iit_x = calc_x.records.s006[(calc_x.records._iitax <=0)].sum()\n",
    "num_no_iit_std = calc_x.records.s006[calc_y_std_beh.records._iitax <=0].sum()\n",
    "num_no_iit_rates = calc_x.records.s006[calc_y_rates_beh.records._iitax <=0].sum()\n",
    "num_no_iit_rates_low = calc_x.records.s006[calc_y_rates_low_beh.records._iitax <=0].sum()\n",
    "print num_no_iit_x/1000000\n",
    "print num_no_iit_std/1000000\n",
    "print num_no_iit_rates/1000000\n",
    "print num_no_iit_rates_low/1000000"
   ]
  },
  {
   "cell_type": "markdown",
   "metadata": {},
   "source": [
    "### # diff taxpayers paying federal individual income tax <= 0 (millions)"
   ]
  },
  {
   "cell_type": "code",
   "execution_count": 157,
   "metadata": {
    "collapsed": false
   },
   "outputs": [
    {
     "name": "stdout",
     "output_type": "stream",
     "text": [
      "10.0556724735\n",
      "0.0652715777367\n",
      "0.857250529457\n"
     ]
    }
   ],
   "source": [
    "diff_num_no_iit_std = (num_no_iit_std - num_no_iit_x)/1000000\n",
    "diff_num_no_iit_rates = (num_no_iit_rates - num_no_iit_x)/1000000\n",
    "diff_num_no_iit_rates_low = (num_no_iit_rates_low - num_no_iit_x)/1000000\n",
    "print diff_num_no_iit_std\n",
    "print diff_num_no_iit_rates\n",
    "print diff_num_no_iit_rates_low"
   ]
  },
  {
   "cell_type": "markdown",
   "metadata": {},
   "source": [
    "### # taxpayers paying federal individual income tax < = 0    \n",
    "### 20k< AGI < 200k"
   ]
  },
  {
   "cell_type": "code",
   "execution_count": 158,
   "metadata": {
    "collapsed": false
   },
   "outputs": [
    {
     "name": "stdout",
     "output_type": "stream",
     "text": [
      "14.8183167503\n",
      "20.0573622194\n",
      "14.8835883281\n",
      "15.6755672798\n"
     ]
    }
   ],
   "source": [
    "num_no_iit_x_MI = calc_x.records.s006[(calc_x.records._iitax <=0) &\n",
    "                                      (calc_x.records.c00100>20000) &\n",
    "                                      (calc_x.records.c00100<200000)].sum()\n",
    "num_no_iit_std_MI = calc_x.records.s006[(calc_y_std_beh.records._iitax <=0)&\n",
    "                                        (calc_x.records.c00100>20000) &\n",
    "                                        (calc_x.records.c00100<200000)].sum()\n",
    "num_no_iit_rates_MI = calc_x.records.s006[(calc_y_rates_beh.records._iitax <=0)&\n",
    "                                        (calc_x.records.c00100>20000) &\n",
    "                                        (calc_x.records.c00100<200000)].sum()\n",
    "num_no_iit_rates_low_MI = calc_x.records.s006[(calc_y_rates_low_beh.records._iitax <=0)&\n",
    "                                             (calc_x.records.c00100>20000) &\n",
    "                                             (calc_x.records.c00100<200000)].sum()\n",
    "print num_no_iit_x_MI/1000000\n",
    "print num_no_iit_std_MI/1000000\n",
    "print num_no_iit_rates_MI/1000000\n",
    "print num_no_iit_rates_low_MI/1000000"
   ]
  },
  {
   "cell_type": "markdown",
   "metadata": {},
   "source": [
    "### # diff taxpayers paying federal individual income tax <= 0 (millions)  20k < AGI < 200k\n"
   ]
  },
  {
   "cell_type": "code",
   "execution_count": 159,
   "metadata": {
    "collapsed": false
   },
   "outputs": [
    {
     "name": "stdout",
     "output_type": "stream",
     "text": [
      "5.23904546903\n",
      "0.0652715777367\n",
      "0.857250529457\n"
     ]
    }
   ],
   "source": [
    "diff_num_no_iit_std_MI = (num_no_iit_std_MI - num_no_iit_x_MI)/1000000\n",
    "diff_num_no_iit_rates_MI = (num_no_iit_rates_MI - num_no_iit_x_MI)/1000000\n",
    "diff_num_no_iit_rates_low_MI = (num_no_iit_rates_low_MI - num_no_iit_x_MI)/1000000\n",
    "print diff_num_no_iit_std_MI\n",
    "print diff_num_no_iit_rates_MI\n",
    "print diff_num_no_iit_rates_low_MI"
   ]
  },
  {
   "cell_type": "markdown",
   "metadata": {},
   "source": [
    "### taxpayers paying federal individual income tax < 0 (millions)\n",
    "##### Again, I'd suggest not reporting these numbers and only reporting the diffs"
   ]
  },
  {
   "cell_type": "code",
   "execution_count": 160,
   "metadata": {
    "collapsed": false
   },
   "outputs": [
    {
     "name": "stdout",
     "output_type": "stream",
     "text": [
      "41.0258137293\n",
      "45.6991284598\n",
      "41.0897773716\n",
      "41.8159891859\n"
     ]
    }
   ],
   "source": [
    "num_neg_iit_x = calc_x.records.s006[calc_x.records._iitax <0].sum()\n",
    "num_neg_iit_std = calc_x.records.s006[calc_y_std_beh.records._iitax <0].sum()\n",
    "num_neg_iit_rates = calc_x.records.s006[calc_y_rates_beh.records._iitax <0].sum()\n",
    "num_neg_iit_rates_low = calc_x.records.s006[calc_y_rates_low_beh.records._iitax <0].sum()\n",
    "print num_neg_iit_x/1000000\n",
    "print num_neg_iit_std/1000000\n",
    "print num_neg_iit_rates/1000000\n",
    "print num_neg_iit_rates_low/1000000"
   ]
  },
  {
   "cell_type": "markdown",
   "metadata": {},
   "source": [
    "### # diff taxpayers paying federal individual income tax < 0 (millions)"
   ]
  },
  {
   "cell_type": "code",
   "execution_count": 161,
   "metadata": {
    "collapsed": false
   },
   "outputs": [
    {
     "name": "stdout",
     "output_type": "stream",
     "text": [
      "4.6733147305\n",
      "0.0639636423281\n",
      "0.790175456584\n"
     ]
    }
   ],
   "source": [
    "diff_num_neg_iit_std = (num_neg_iit_std - num_neg_iit_x)/1000000\n",
    "diff_num_neg_iit_rates = (num_neg_iit_rates - num_neg_iit_x)/1000000\n",
    "diff_num_neg_iit_rates_low = (num_neg_iit_rates_low - num_neg_iit_x)/1000000\n",
    "print diff_num_neg_iit_std\n",
    "print diff_num_neg_iit_rates\n",
    "print diff_num_neg_iit_rates_low"
   ]
  },
  {
   "cell_type": "markdown",
   "metadata": {},
   "source": [
    "### taxpayers paying federal individual income tax < 0 (millions) \n",
    "### 20k < AGI < 200k"
   ]
  },
  {
   "cell_type": "code",
   "execution_count": 162,
   "metadata": {
    "collapsed": false
   },
   "outputs": [
    {
     "name": "stdout",
     "output_type": "stream",
     "text": [
      "12.9022074646\n",
      "15.5851459054\n",
      "12.966171107\n",
      "13.6923829212\n"
     ]
    }
   ],
   "source": [
    "num_neg_iit_x_MI = calc_x.records.s006[(calc_x.records._iitax <0) &\n",
    "                                    (calc_x.records.c00100>20000) &\n",
    "                                    (calc_x.records.c00100<200000)].sum()\n",
    "num_neg_iit_std_MI = calc_x.records.s006[(calc_y_std_beh.records._iitax <0) &\n",
    "                                      (calc_x.records.c00100>20000) &\n",
    "                                      (calc_x.records.c00100<200000)].sum()\n",
    "num_neg_iit_rates_MI = calc_x.records.s006[(calc_y_rates_beh.records._iitax <0) &\n",
    "                                        (calc_x.records.c00100>20000) &\n",
    "                                        (calc_x.records.c00100<200000)].sum()\n",
    "num_neg_iit_rates_low_MI = calc_x.records.s006[(calc_y_rates_low_beh.records._iitax <0) &\n",
    "                                            (calc_x.records.c00100>20000) &\n",
    "                                            (calc_x.records.c00100<200000)].sum()\n",
    "print num_neg_iit_x_MI/1000000\n",
    "print num_neg_iit_std_MI/1000000\n",
    "print num_neg_iit_rates_MI/1000000\n",
    "print num_neg_iit_rates_low_MI/1000000"
   ]
  },
  {
   "cell_type": "markdown",
   "metadata": {},
   "source": [
    "### # diff taxpayers paying federal individual income tax < 0 (millions)\n",
    "### 20k < AGI < 200k"
   ]
  },
  {
   "cell_type": "code",
   "execution_count": 163,
   "metadata": {
    "collapsed": false
   },
   "outputs": [
    {
     "name": "stdout",
     "output_type": "stream",
     "text": [
      "2.68293844076\n",
      "0.0639636423281\n",
      "0.790175456584\n"
     ]
    }
   ],
   "source": [
    "diff_num_neg_iit_std_MI = (num_neg_iit_std_MI - num_neg_iit_x_MI)/1000000\n",
    "diff_num_neg_iit_rates_MI = (num_neg_iit_rates_MI - num_neg_iit_x_MI)/1000000\n",
    "diff_num_neg_iit_rates_low_MI = (num_neg_iit_rates_low_MI - num_neg_iit_x_MI)/1000000\n",
    "print diff_num_neg_iit_std_MI\n",
    "print diff_num_neg_iit_rates_MI\n",
    "print diff_num_neg_iit_rates_low_MI"
   ]
  },
  {
   "cell_type": "markdown",
   "metadata": {},
   "source": [
    "### MTR Skyline joint taxpayer w 2 kids -- only iit, current law"
   ]
  },
  {
   "cell_type": "code",
   "execution_count": 164,
   "metadata": {
    "collapsed": false
   },
   "outputs": [],
   "source": [
    "records_simple_x = Records('../../simple_payer_joint.csv', consider_imputations=False, start_year=2016)\n",
    "params_simple_x = Policy()\n",
    "params_simple_x.set_year(2016)\n",
    "calc_simple_x = Calculator(params_simple_x, records_simple_x, sync_years=False)\n",
    "assert calc_simple_x.current_year == 2016\n",
    "calc_simple_x.calc_all()"
   ]
  },
  {
   "cell_type": "code",
   "execution_count": 165,
   "metadata": {
    "collapsed": true
   },
   "outputs": [],
   "source": [
    "a,mtr_simple_x,c = calc_simple_x.mtr()"
   ]
  },
  {
   "cell_type": "code",
   "execution_count": 166,
   "metadata": {
    "collapsed": false
   },
   "outputs": [
    {
     "data": {
      "text/plain": [
       "(0, 300000)"
      ]
     },
     "execution_count": 166,
     "metadata": {},
     "output_type": "execute_result"
    },
    {
     "data": {
      "image/png": "[encoded data removed]",
      "text/plain": [
       "<matplotlib.figure.Figure at 0x10df2a550>"
      ]
     },
     "metadata": {},
     "output_type": "display_data"
    }
   ],
   "source": [
    "plt.plot(calc_simple_x.records.c00100, mtr_simple_x)\n",
    "axes = plt.gca()\n",
    "axes.set_xlim([0,300000])\n"
   ]
  },
  {
   "cell_type": "markdown",
   "metadata": {},
   "source": [
    "### MTR skyline single taxpayer w 0 kids -- only iit, current law"
   ]
  },
  {
   "cell_type": "code",
   "execution_count": 167,
   "metadata": {
    "collapsed": true
   },
   "outputs": [],
   "source": [
    "records_simple_x = Records('../../simple_payer_single.csv', consider_imputations=False, start_year=2016)\n",
    "params_simple_x = Policy()\n",
    "params_simple_x.set_year(2016)\n",
    "calc_simple_x = Calculator(params_simple_x, records_simple_x, sync_years=False)\n",
    "assert calc_simple_x.current_year == 2016\n",
    "calc_simple_x.calc_all()"
   ]
  },
  {
   "cell_type": "code",
   "execution_count": 168,
   "metadata": {
    "collapsed": true
   },
   "outputs": [],
   "source": [
    "a,mtr_simple_x,c = calc_simple_x.mtr()"
   ]
  },
  {
   "cell_type": "code",
   "execution_count": 169,
   "metadata": {
    "collapsed": false
   },
   "outputs": [
    {
     "data": {
      "text/plain": [
       "(0, 300000)"
      ]
     },
     "execution_count": 169,
     "metadata": {},
     "output_type": "execute_result"
    },
    {
     "data": {
      "image/png": "[encoded data removed]",
      "text/plain": [
       "<matplotlib.figure.Figure at 0x39bf4a790>"
      ]
     },
     "metadata": {},
     "output_type": "display_data"
    }
   ],
   "source": [
    "plt.plot(calc_simple_x.records.c00100, mtr_simple_x)\n",
    "axes = plt.gca()\n",
    "axes.set_xlim([0,300000])\n"
   ]
  },
  {
   "cell_type": "markdown",
   "metadata": {
    "collapsed": true
   },
   "source": [
    "### MTR Skyline single taxpayer w 1 kid, combined, no AMT"
   ]
  },
  {
   "cell_type": "code",
   "execution_count": 170,
   "metadata": {
    "collapsed": false
   },
   "outputs": [
    {
     "name": "stdout",
     "output_type": "stream",
     "text": [
      "You loaded data for 2009.\n",
      "Your data have been extrapolated to 2013.\n",
      "You loaded data for 2009.\n",
      "Your data have been extrapolated to 2013.\n"
     ]
    }
   ],
   "source": [
    "records_simple_x = Records('../../simple_payer.csv')\n",
    "params_simple_x = Policy()\n",
    "\n",
    "records_simple_std = Records('../../simple_payer.csv')\n",
    "params_simple_std = Policy()\n",
    "\n",
    "reform_simple_x = {\n",
    "    2016: {\n",
    "            '_AMT_trt1': [.0],\n",
    "           '_AMT_trt2': [.0]\n",
    "    },\n",
    "}\n",
    "\n",
    "\n",
    "reform_simple_std = {\n",
    "    2016: {\n",
    "            '_STD': [[12600, 25200, 12600, 18600, 25300, 12600, 2100]],\n",
    "            '_AMT_trt1': [.0],\n",
    "            '_AMT_trt2': [.0]\n",
    "           },}\n",
    "\n",
    "params_simple_x.implement_reform(reform_simple_x)\n",
    "calc_simple_x = Calculator(params_simple_x, records_simple_x)\n",
    "for i in range(4):\n",
    "    calc_simple_x.increment_year()\n",
    "assert calc_simple_x.current_year == 2017\n",
    "calc_simple_x.calc_all()\n",
    "\n",
    "params_simple_std.implement_reform(reform_simple_std)\n",
    "calc_simple_std = Calculator(params_simple_std, records_simple_std)\n",
    "for i in range(4):\n",
    "    calc_simple_std.increment_year()\n",
    "assert calc_simple_std.current_year == 2017\n",
    "calc_simple_std.calc_all()"
   ]
  },
  {
   "cell_type": "code",
   "execution_count": 171,
   "metadata": {
    "collapsed": true
   },
   "outputs": [],
   "source": [
    "a,b,mtr_simple_x = calc_simple_x.mtr()\n",
    "a,b,mtr_simple_std = calc_simple_std.mtr()"
   ]
  },
  {
   "cell_type": "code",
   "execution_count": 172,
   "metadata": {
    "collapsed": false
   },
   "outputs": [
    {
     "data": {
      "text/plain": [
       "[<matplotlib.lines.Line2D at 0x25acc8290>]"
      ]
     },
     "execution_count": 172,
     "metadata": {},
     "output_type": "execute_result"
    },
    {
     "data": {
      "image/png": "[encoded data removed]",
      "text/plain": [
       "<matplotlib.figure.Figure at 0x25acda0d0>"
      ]
     },
     "metadata": {},
     "output_type": "display_data"
    }
   ],
   "source": [
    "plt.plot(calc_simple_x.records.e00200, mtr_simple_x)\n",
    "plt.plot(calc_simple_std.records.e00200, mtr_simple_std)"
   ]
  },
  {
   "cell_type": "markdown",
   "metadata": {},
   "source": [
    "### MTR Skyline charts including iit_mtr<=0"
   ]
  },
  {
   "cell_type": "code",
   "execution_count": 173,
   "metadata": {
    "collapsed": false
   },
   "outputs": [],
   "source": [
    "RES_COLUMNS = STATS_COLUMNS + ['e00200'] + ['MARS'] + ['n24']\n",
    "def results(c):\n",
    "    outputs = []\n",
    "    for col in RES_COLUMNS:\n",
    "        if hasattr(c.policy, col):\n",
    "            outputs.append(getattr(c.policy, col))\n",
    "        else:\n",
    "            outputs.append(getattr(c.records, col))\n",
    "\n",
    "    return DataFrame(data=np.column_stack(outputs), columns=RES_COLUMNS)\n",
    "\n",
    "\n",
    "EPSILON = 1e-3\n",
    "def wage_weighted(agg, col_name):\n",
    "    return (float((agg[col_name] * agg['s006'] * agg['e00200']).sum())/\n",
    "            (agg['s006']*agg['e00200']).sum() + EPSILON)\n",
    "\n",
    "def weighted(agg, col_name):\n",
    "    return (float((agg[col_name] * agg['s006']).sum())/\n",
    "            (agg['s006']).sum() + EPSILON)\n",
    "\n",
    "def add_income_bins(df, num_bins, tab):\n",
    "    # First, sort by income_measure\n",
    "    df.sort(tab, inplace=True)\n",
    "    # Next, do a cumulative sum by the weights\n",
    "    df['cumsum_weights'] = np.cumsum(df['s006'].values)\n",
    "    # Max value of cum sum of weights\n",
    "    max_ = df['cumsum_weights'].values[-1]\n",
    "    # Create 100 bins and labels based on this cumulative weight\n",
    "    bin_edges = [0] + list(np.arange(1, (num_bins+1)) * (max_ / float(num_bins)))\n",
    "    labels = range(1, (num_bins+1))\n",
    "    #  Groupby weighted deciles\n",
    "    df['bins'] = pd.cut(df['cumsum_weights'], bins=bin_edges, labels=labels)\n",
    "    return df\n",
    "\n",
    "def create_mtr_graph(calcX, calcY, MARS, weights, tab, kids_less_or_equal=1000, kids_greater_or_equal = 0, combined_or_IIT = 'combined'):\n",
    "    a, mtr_iit_x, mtr_combined_x = calcX.mtr()\n",
    "    a, mtr_iit_y, mtr_combined_y = calcY.mtr()\n",
    "    df_x = results(calcX)\n",
    "    df_y = results(calcY)\n",
    "    df_x['mtr_iit'] = mtr_iit_x\n",
    "    df_y['mtr_iit'] = mtr_iit_y\n",
    "    df_x['mtr_combined'] = mtr_combined_x\n",
    "    df_y['mtr_combined'] = mtr_combined_y\n",
    "    \n",
    "    \n",
    "    df_y[tab] = df_x[tab]\n",
    "    \n",
    "    df_x = add_income_bins(df_x, 100, tab)\n",
    "    df_y = add_income_bins(df_y, 100, tab)\n",
    "    \n",
    "    df_filtered_x = df_x[ (df_x['MARS']==MARS) & (df_x['n24'] >= kids_greater_or_equal) & (df_x['n24'] <= kids_less_or_equal) ].copy()\n",
    "    df_filtered_y = df_y[ (df_y['MARS']==MARS) & (df_x['n24'] >= kids_greater_or_equal) & (df_x['n24'] <= kids_less_or_equal) ].copy()\n",
    "    \n",
    "    #Create a GroupBy object with 100 groups\n",
    "    gp_x = df_filtered_x.groupby('bins', as_index=False)\n",
    "    gp_y = df_filtered_y.groupby('bins', as_index=False)\n",
    "    \n",
    "    #Create a series of size 100\n",
    "    if combined_or_IIT == 'combined':\n",
    "        wmtr_x = gp_x.apply(weights, 'mtr_combined')\n",
    "        wmtr_y = gp_y.apply(weights, 'mtr_combined')\n",
    "    elif combined_or_IIT == 'IIT':\n",
    "        wmtr_x = gp_x.apply(weights, 'mtr_iit')\n",
    "        wmtr_y = gp_y.apply(weights, 'mtr_iit')\n",
    "\n",
    "    #Create a DataFrame out of this with a default index\n",
    "    wmtrx_df = DataFrame( data=wmtr_x, columns=['w_mtr'])\n",
    "    wmtry_df = DataFrame( data=wmtr_y, columns=['w_mtr'])\n",
    "\n",
    "    #Add the bin labels\n",
    "    wmtrx_df['bins'] = np.arange(1,101)\n",
    "    wmtry_df['bins'] = np.arange(1,101)\n",
    "\n",
    "    #Join df_x and appld on the bin, carrying along 'w_mtr'\n",
    "    #Left join means that 'rslt' is of size len(df_filtered_x)\n",
    "    rsltx = pd.merge(df_filtered_x[['bins']], wmtrx_df, how='left')\n",
    "    rslty = pd.merge(df_filtered_y[['bins']], wmtry_df, how='left')\n",
    "\n",
    "    # Put that column in df_filtered_x, disregarding index of rslt\n",
    "    df_filtered_x['w_mtr'] = rsltx['w_mtr'].values\n",
    "    df_filtered_y['w_mtr'] = rslty['w_mtr'].values\n",
    "    \n",
    "    df_filtered_x.drop_duplicates(subset = 'bins', inplace = True)\n",
    "    df_filtered_y.drop_duplicates(subset = 'bins', inplace = True)\n",
    "    \n",
    "    plt.plot(df_filtered_x.bins, df_filtered_x.w_mtr)\n",
    "    if calcX != calcY:\n",
    "        plt.plot(df_filtered_y.bins.unique(), df_filtered_y.w_mtr.unique())\n",
    "        plt.legend(['Baseline', 'Reform'])\n",
    "\n",
    "    \n",
    "def create_pct_diff_graph(calcX, calcY1, calcY2, calcY3, MARS, weights, tab):\n",
    "    a, mtr_iit_x, mtr_combined_x = calcX.mtr()\n",
    "    a, mtr_iit_y1, mtr_combined_y1 = calcY1.mtr()\n",
    "    a, mtr_iit_y2, mtr_combined_y2 = calcY2.mtr()\n",
    "    a, mtr_iit_y3, mtr_combined_y3 = calcY3.mtr()\n",
    "    df_x = results(calcX)\n",
    "    df_y1 = results(calcY1)\n",
    "    df_y2 = results(calcY2)\n",
    "    df_y3 = results(calcY3)\n",
    "    df_y1['pct_diff_atr'] = ((1 - mtr_combined_y1) - (1 - mtr_combined_x)) / (1 - mtr_combined_x)\n",
    "    df_y2['pct_diff_atr'] = ((1 - mtr_combined_y2) - (1 - mtr_combined_x)) / (1 - mtr_combined_x)\n",
    "    df_y3['pct_diff_atr'] = ((1 - mtr_combined_y3) - (1 - mtr_combined_x)) / (1 - mtr_combined_x)\n",
    "    df_y1[tab] = df_x[tab]\n",
    "    df_y2[tab] = df_x[tab]\n",
    "    df_y3[tab] = df_x[tab]\n",
    "    df_y1 = add_income_bins(df_y1, 100, tab)\n",
    "    df_y2 = add_income_bins(df_y2, 100, tab)\n",
    "    df_y3 = add_income_bins(df_y3, 100, tab)\n",
    "    \n",
    "    df_filtered_y1 = df_y1[ (df_y1['MARS']==MARS) ].copy()\n",
    "    df_filtered_y2 = df_y2[ (df_y2['MARS']==MARS) ].copy()\n",
    "    df_filtered_y3 = df_y3[ (df_y3['MARS']==MARS) ].copy()\n",
    "    \n",
    "    #Create a GroupBy object with 100 groups\n",
    "    gp_y1 = df_filtered_y1.groupby('bins', as_index=False)\n",
    "    gp_y2 = df_filtered_y2.groupby('bins', as_index=False)\n",
    "    gp_y3 = df_filtered_y3.groupby('bins', as_index=False)\n",
    "    \n",
    "    #Create a series of size 100\n",
    "    wpdm_y1 = gp_y1.apply(weights, 'pct_diff_atr')\n",
    "    wpdm_y2 = gp_y2.apply(weights, 'pct_diff_atr')\n",
    "    wpdm_y3 = gp_y3.apply(weights, 'pct_diff_atr')\n",
    "\n",
    "    \n",
    "    #Create a DataFrame out of this with a default index\n",
    "    wpdmy1_df = DataFrame( data=wpdm_y1, columns=['w_pdm'])\n",
    "    wpdmy2_df = DataFrame( data=wpdm_y2, columns=['w_pdm'])\n",
    "    wpdmy3_df = DataFrame( data=wpdm_y3, columns=['w_pdm'])\n",
    "    \n",
    "    #Add the bin labels\n",
    "    wpdmy1_df['bins'] = np.arange(1,101)\n",
    "    wpdmy2_df['bins'] = np.arange(1,101)\n",
    "    wpdmy3_df['bins'] = np.arange(1,101)\n",
    "\n",
    "    #Join df_x and appld on the bin, carrying along 'w_mtr'\n",
    "    #Left join means that 'rslt' is of size len(df_filtered_x)\n",
    "    rslty1 = pd.merge(df_filtered_y1[['bins']], wpdmy1_df, how='left')\n",
    "    rslty2 = pd.merge(df_filtered_y2[['bins']], wpdmy2_df, how='left')\n",
    "    rslty3 = pd.merge(df_filtered_y3[['bins']], wpdmy3_df, how='left')\n",
    "\n",
    "    # Put that column in df_filtered_x, disregarding index of rslt\n",
    "    df_filtered_y1['w_pdm'] = rslty1['w_pdm'].values\n",
    "    df_filtered_y2['w_pdm'] = rslty2['w_pdm'].values\n",
    "    df_filtered_y3['w_pdm'] = rslty3['w_pdm'].values\n",
    "\n",
    "    df_filtered_y1 = df_filtered_y1[['bins', 'w_pdm']]\n",
    "    df_filtered_y2 = df_filtered_y2[['bins', 'w_pdm']]\n",
    "    df_filtered_y3 = df_filtered_y3[['bins', 'w_pdm']]\n",
    "    \n",
    "    \n",
    "    df_filtered_y1.drop_duplicates(inplace=True)\n",
    "    df_filtered_y2.drop_duplicates(inplace=True)\n",
    "    df_filtered_y3.drop_duplicates(inplace=True)\n",
    "    \n",
    "    plt.plot(df_filtered_y1.bins.unique(), df_filtered_y1.w_pdm)\n",
    "    plt.plot(df_filtered_y2.bins.unique(), df_filtered_y2.w_pdm)\n",
    "    plt.plot(df_filtered_y3.bins.unique(), df_filtered_y3.w_pdm)\n",
    "    plt.legend(['Std_ded','15_rt', '10_rt'], bbox_to_anchor=(.5, .9),\n",
    "           bbox_transform=plt.gcf().transFigure)\n",
    "\n",
    "\n",
    "    \n",
    " "
   ]
  },
  {
   "cell_type": "markdown",
   "metadata": {},
   "source": [
    "### Real data, current law policy, single filers, 0 kids"
   ]
  },
  {
   "cell_type": "markdown",
   "metadata": {},
   "source": [
    "##### FICA+IIT"
   ]
  },
  {
   "cell_type": "code",
   "execution_count": 174,
   "metadata": {
    "collapsed": false
   },
   "outputs": [
    {
     "name": "stderr",
     "output_type": "stream",
     "text": [
      "/Users/Matt.Jensen/anaconda/envs/taxcalc-dev/lib/python2.7/site-packages/ipykernel/__main__.py:24: FutureWarning: sort(columns=....) is deprecated, use sort_values(by=.....)\n"
     ]
    },
    {
     "data": {
      "image/png": "[encoded data removed]",
      "text/plain": [
       "<matplotlib.figure.Figure at 0x30eb6b190>"
      ]
     },
     "metadata": {},
     "output_type": "display_data"
    }
   ],
   "source": [
    "create_mtr_graph(calc_baseline, calc_baseline, MARS = 1, weights = weighted, tab = 'c00100', kids_less_or_equal=0)"
   ]
  },
  {
   "cell_type": "markdown",
   "metadata": {},
   "source": [
    "##### IIT"
   ]
  },
  {
   "cell_type": "code",
   "execution_count": 175,
   "metadata": {
    "collapsed": false
   },
   "outputs": [
    {
     "name": "stderr",
     "output_type": "stream",
     "text": [
      "/Users/Matt.Jensen/anaconda/envs/taxcalc-dev/lib/python2.7/site-packages/ipykernel/__main__.py:24: FutureWarning: sort(columns=....) is deprecated, use sort_values(by=.....)\n"
     ]
    },
    {
     "data": {
      "image/png": "[encoded data removed]",
      "text/plain": [
       "<matplotlib.figure.Figure at 0x2afc13450>"
      ]
     },
     "metadata": {},
     "output_type": "display_data"
    }
   ],
   "source": [
    "create_mtr_graph(calc_baseline, calc_baseline, MARS = 1, weights = weighted, tab = 'c00100', kids_less_or_equal=0, combined_or_IIT='IIT')"
   ]
  },
  {
   "cell_type": "markdown",
   "metadata": {},
   "source": [
    "### Real data, current law policy, joint filers, >=1 kids"
   ]
  },
  {
   "cell_type": "markdown",
   "metadata": {},
   "source": [
    "##### FICA + IIT"
   ]
  },
  {
   "cell_type": "code",
   "execution_count": 176,
   "metadata": {
    "collapsed": false
   },
   "outputs": [
    {
     "name": "stderr",
     "output_type": "stream",
     "text": [
      "/Users/Matt.Jensen/anaconda/envs/taxcalc-dev/lib/python2.7/site-packages/ipykernel/__main__.py:24: FutureWarning: sort(columns=....) is deprecated, use sort_values(by=.....)\n"
     ]
    },
    {
     "data": {
      "image/png": "[encoded data removed]",
      "text/plain": [
       "<matplotlib.figure.Figure at 0x2ab172ad0>"
      ]
     },
     "metadata": {},
     "output_type": "display_data"
    }
   ],
   "source": [
    "create_mtr_graph(calc_baseline, calc_baseline, MARS = 2, weights = weighted, tab = 'c00100', kids_greater_or_equal=1)"
   ]
  },
  {
   "cell_type": "markdown",
   "metadata": {},
   "source": [
    "##### IIT"
   ]
  },
  {
   "cell_type": "code",
   "execution_count": 177,
   "metadata": {
    "collapsed": false
   },
   "outputs": [
    {
     "name": "stderr",
     "output_type": "stream",
     "text": [
      "/Users/Matt.Jensen/anaconda/envs/taxcalc-dev/lib/python2.7/site-packages/ipykernel/__main__.py:24: FutureWarning: sort(columns=....) is deprecated, use sort_values(by=.....)\n"
     ]
    },
    {
     "data": {
      "image/png": "[encoded data removed]",
      "text/plain": [
       "<matplotlib.figure.Figure at 0x14efd9dd0>"
      ]
     },
     "metadata": {},
     "output_type": "display_data"
    }
   ],
   "source": [
    "create_mtr_graph(calc_baseline, calc_baseline, MARS = 2, weights = weighted, tab = 'c00100', kids_greater_or_equal=1, combined_or_IIT='IIT')"
   ]
  },
  {
   "cell_type": "markdown",
   "metadata": {},
   "source": [
    "#### Std Reform\n",
    "#### Single"
   ]
  },
  {
   "cell_type": "markdown",
   "metadata": {},
   "source": [
    "##### FICA + IIT"
   ]
  },
  {
   "cell_type": "code",
   "execution_count": 178,
   "metadata": {
    "collapsed": false
   },
   "outputs": [
    {
     "name": "stderr",
     "output_type": "stream",
     "text": [
      "/Users/Matt.Jensen/anaconda/envs/taxcalc-dev/lib/python2.7/site-packages/ipykernel/__main__.py:24: FutureWarning: sort(columns=....) is deprecated, use sort_values(by=.....)\n"
     ]
    },
    {
     "data": {
      "image/png": "[encoded data removed]",
      "text/plain": [
       "<matplotlib.figure.Figure at 0x1117de410>"
      ]
     },
     "metadata": {},
     "output_type": "display_data"
    }
   ],
   "source": [
    "create_mtr_graph(calc_x, calc_y_std, MARS = 1, weights = weighted, tab = 'c00100')"
   ]
  },
  {
   "cell_type": "markdown",
   "metadata": {},
   "source": [
    "##### IIT"
   ]
  },
  {
   "cell_type": "code",
   "execution_count": 179,
   "metadata": {
    "collapsed": false
   },
   "outputs": [
    {
     "name": "stderr",
     "output_type": "stream",
     "text": [
      "/Users/Matt.Jensen/anaconda/envs/taxcalc-dev/lib/python2.7/site-packages/ipykernel/__main__.py:24: FutureWarning: sort(columns=....) is deprecated, use sort_values(by=.....)\n"
     ]
    },
    {
     "data": {
      "image/png": "[encoded data removed]",
      "text/plain": [
       "<matplotlib.figure.Figure at 0x25acda990>"
      ]
     },
     "metadata": {},
     "output_type": "display_data"
    }
   ],
   "source": [
    "create_mtr_graph(calc_x, calc_y_std, MARS = 1, weights = weighted, tab = 'c00100', combined_or_IIT='IIT')"
   ]
  },
  {
   "cell_type": "markdown",
   "metadata": {},
   "source": [
    "#### Joint"
   ]
  },
  {
   "cell_type": "markdown",
   "metadata": {},
   "source": [
    "##### FICA + IIT"
   ]
  },
  {
   "cell_type": "code",
   "execution_count": 180,
   "metadata": {
    "collapsed": false,
    "scrolled": true
   },
   "outputs": [
    {
     "name": "stderr",
     "output_type": "stream",
     "text": [
      "/Users/Matt.Jensen/anaconda/envs/taxcalc-dev/lib/python2.7/site-packages/ipykernel/__main__.py:24: FutureWarning: sort(columns=....) is deprecated, use sort_values(by=.....)\n"
     ]
    },
    {
     "data": {
      "image/png": "[encoded data removed]",
      "text/plain": [
       "<matplotlib.figure.Figure at 0x21c414a90>"
      ]
     },
     "metadata": {},
     "output_type": "display_data"
    }
   ],
   "source": [
    "create_mtr_graph(calc_x, calc_y_std, MARS=2,  weights = weighted, tab = 'c00100')"
   ]
  },
  {
   "cell_type": "markdown",
   "metadata": {},
   "source": [
    "##### IIT"
   ]
  },
  {
   "cell_type": "code",
   "execution_count": 181,
   "metadata": {
    "collapsed": false,
    "scrolled": true
   },
   "outputs": [
    {
     "name": "stderr",
     "output_type": "stream",
     "text": [
      "/Users/Matt.Jensen/anaconda/envs/taxcalc-dev/lib/python2.7/site-packages/ipykernel/__main__.py:24: FutureWarning: sort(columns=....) is deprecated, use sort_values(by=.....)\n"
     ]
    },
    {
     "data": {
      "image/png": "[encoded data removed]",
      "text/plain": [
       "<matplotlib.figure.Figure at 0x2a745b710>"
      ]
     },
     "metadata": {},
     "output_type": "display_data"
    }
   ],
   "source": [
    "create_mtr_graph(calc_x, calc_y_std, MARS=2,  weights = weighted, tab = 'c00100', combined_or_IIT='IIT')"
   ]
  },
  {
   "cell_type": "markdown",
   "metadata": {},
   "source": [
    "#### Rates reform\n",
    "#### Single"
   ]
  },
  {
   "cell_type": "markdown",
   "metadata": {},
   "source": [
    "##### FICA + IIT"
   ]
  },
  {
   "cell_type": "code",
   "execution_count": 182,
   "metadata": {
    "collapsed": false
   },
   "outputs": [
    {
     "name": "stderr",
     "output_type": "stream",
     "text": [
      "/Users/Matt.Jensen/anaconda/envs/taxcalc-dev/lib/python2.7/site-packages/ipykernel/__main__.py:24: FutureWarning: sort(columns=....) is deprecated, use sort_values(by=.....)\n"
     ]
    },
    {
     "data": {
      "image/png": "[encoded data removed]",
      "text/plain": [
       "<matplotlib.figure.Figure at 0x16f003050>"
      ]
     },
     "metadata": {},
     "output_type": "display_data"
    }
   ],
   "source": [
    "create_mtr_graph(calc_x, calc_y_rates, MARS=1,  weights = weighted, tab = 'c00100')"
   ]
  },
  {
   "cell_type": "markdown",
   "metadata": {},
   "source": [
    "##### IIT"
   ]
  },
  {
   "cell_type": "code",
   "execution_count": 183,
   "metadata": {
    "collapsed": false
   },
   "outputs": [
    {
     "name": "stderr",
     "output_type": "stream",
     "text": [
      "/Users/Matt.Jensen/anaconda/envs/taxcalc-dev/lib/python2.7/site-packages/ipykernel/__main__.py:24: FutureWarning: sort(columns=....) is deprecated, use sort_values(by=.....)\n"
     ]
    },
    {
     "data": {
      "image/png": "[encoded data removed]",
      "text/plain": [
       "<matplotlib.figure.Figure at 0x16f003e10>"
      ]
     },
     "metadata": {},
     "output_type": "display_data"
    }
   ],
   "source": [
    "create_mtr_graph(calc_x, calc_y_rates, MARS=1,  weights = weighted, tab = 'c00100', combined_or_IIT='IIT')"
   ]
  },
  {
   "cell_type": "markdown",
   "metadata": {},
   "source": [
    "#### Joint"
   ]
  },
  {
   "cell_type": "markdown",
   "metadata": {},
   "source": [
    "##### FICA + IIT"
   ]
  },
  {
   "cell_type": "code",
   "execution_count": 184,
   "metadata": {
    "collapsed": false
   },
   "outputs": [
    {
     "name": "stderr",
     "output_type": "stream",
     "text": [
      "/Users/Matt.Jensen/anaconda/envs/taxcalc-dev/lib/python2.7/site-packages/ipykernel/__main__.py:24: FutureWarning: sort(columns=....) is deprecated, use sort_values(by=.....)\n"
     ]
    },
    {
     "data": {
      "image/png": "[encoded data removed]",
      "text/plain": [
       "<matplotlib.figure.Figure at 0x2a74c3610>"
      ]
     },
     "metadata": {},
     "output_type": "display_data"
    }
   ],
   "source": [
    "create_mtr_graph(calc_x, calc_y_rates, MARS=2,  weights = weighted, tab = 'c00100')"
   ]
  },
  {
   "cell_type": "markdown",
   "metadata": {},
   "source": [
    "##### IIT"
   ]
  },
  {
   "cell_type": "code",
   "execution_count": 185,
   "metadata": {
    "collapsed": false
   },
   "outputs": [
    {
     "name": "stderr",
     "output_type": "stream",
     "text": [
      "/Users/Matt.Jensen/anaconda/envs/taxcalc-dev/lib/python2.7/site-packages/ipykernel/__main__.py:24: FutureWarning: sort(columns=....) is deprecated, use sort_values(by=.....)\n"
     ]
    },
    {
     "data": {
      "image/png": "[encoded data removed]",
      "text/plain": [
       "<matplotlib.figure.Figure at 0x2b6711b90>"
      ]
     },
     "metadata": {},
     "output_type": "display_data"
    }
   ],
   "source": [
    "create_mtr_graph(calc_x, calc_y_rates, MARS=2,  weights = weighted, tab = 'c00100', combined_or_IIT='IIT')"
   ]
  },
  {
   "cell_type": "markdown",
   "metadata": {},
   "source": [
    "#### Rates Low Reform\n",
    "#### Single"
   ]
  },
  {
   "cell_type": "markdown",
   "metadata": {},
   "source": [
    "##### FICA + IIT"
   ]
  },
  {
   "cell_type": "code",
   "execution_count": 186,
   "metadata": {
    "collapsed": false
   },
   "outputs": [
    {
     "name": "stderr",
     "output_type": "stream",
     "text": [
      "/Users/Matt.Jensen/anaconda/envs/taxcalc-dev/lib/python2.7/site-packages/ipykernel/__main__.py:24: FutureWarning: sort(columns=....) is deprecated, use sort_values(by=.....)\n"
     ]
    },
    {
     "data": {
      "image/png": "[encoded data removed]",
      "text/plain": [
       "<matplotlib.figure.Figure at 0x2af491590>"
      ]
     },
     "metadata": {},
     "output_type": "display_data"
    }
   ],
   "source": [
    "create_mtr_graph(calc_x, calc_y_rates_low, MARS=1, weights = weighted, tab = 'c00100')"
   ]
  },
  {
   "cell_type": "markdown",
   "metadata": {},
   "source": [
    "##### IIT"
   ]
  },
  {
   "cell_type": "code",
   "execution_count": 187,
   "metadata": {
    "collapsed": false
   },
   "outputs": [
    {
     "name": "stderr",
     "output_type": "stream",
     "text": [
      "/Users/Matt.Jensen/anaconda/envs/taxcalc-dev/lib/python2.7/site-packages/ipykernel/__main__.py:24: FutureWarning: sort(columns=....) is deprecated, use sort_values(by=.....)\n"
     ]
    },
    {
     "data": {
      "image/png": "[encoded data removed]",
      "text/plain": [
       "<matplotlib.figure.Figure at 0x2af4aab50>"
      ]
     },
     "metadata": {},
     "output_type": "display_data"
    }
   ],
   "source": [
    "create_mtr_graph(calc_x, calc_y_rates_low, MARS=1, weights = weighted, tab = 'c00100', combined_or_IIT='IIT')"
   ]
  },
  {
   "cell_type": "markdown",
   "metadata": {},
   "source": [
    "#### Joint"
   ]
  },
  {
   "cell_type": "markdown",
   "metadata": {},
   "source": [
    "##### FICA + IIT"
   ]
  },
  {
   "cell_type": "code",
   "execution_count": 188,
   "metadata": {
    "collapsed": false,
    "scrolled": true
   },
   "outputs": [
    {
     "name": "stderr",
     "output_type": "stream",
     "text": [
      "/Users/Matt.Jensen/anaconda/envs/taxcalc-dev/lib/python2.7/site-packages/ipykernel/__main__.py:24: FutureWarning: sort(columns=....) is deprecated, use sort_values(by=.....)\n"
     ]
    },
    {
     "data": {
      "image/png": "[encoded data removed]",
      "text/plain": [
       "<matplotlib.figure.Figure at 0x2aab68c90>"
      ]
     },
     "metadata": {},
     "output_type": "display_data"
    }
   ],
   "source": [
    "create_mtr_graph(calc_x, calc_y_rates_low, MARS=2, weights = weighted, tab = 'c00100')"
   ]
  },
  {
   "cell_type": "markdown",
   "metadata": {},
   "source": [
    "##### IIT"
   ]
  },
  {
   "cell_type": "code",
   "execution_count": 189,
   "metadata": {
    "collapsed": false,
    "scrolled": true
   },
   "outputs": [
    {
     "name": "stderr",
     "output_type": "stream",
     "text": [
      "/Users/Matt.Jensen/anaconda/envs/taxcalc-dev/lib/python2.7/site-packages/ipykernel/__main__.py:24: FutureWarning: sort(columns=....) is deprecated, use sort_values(by=.....)\n"
     ]
    },
    {
     "data": {
      "image/png": "[encoded data removed]",
      "text/plain": [
       "<matplotlib.figure.Figure at 0x10b7a3510>"
      ]
     },
     "metadata": {},
     "output_type": "display_data"
    }
   ],
   "source": [
    "create_mtr_graph(calc_x, calc_y_rates_low, MARS=2, weights = weighted, tab = 'c00100', combined_or_IIT='IIT')"
   ]
  },
  {
   "cell_type": "markdown",
   "metadata": {},
   "source": [
    "### PCT Diff ATR Chart, IIT + FICA"
   ]
  },
  {
   "cell_type": "code",
   "execution_count": 190,
   "metadata": {
    "collapsed": false
   },
   "outputs": [
    {
     "name": "stderr",
     "output_type": "stream",
     "text": [
      "/Users/Matt.Jensen/anaconda/envs/taxcalc-dev/lib/python2.7/site-packages/ipykernel/__main__.py:24: FutureWarning: sort(columns=....) is deprecated, use sort_values(by=.....)\n"
     ]
    },
    {
     "data": {
      "image/png": "[encoded data removed]",
      "text/plain": [
       "<matplotlib.figure.Figure at 0x2a7242310>"
      ]
     },
     "metadata": {},
     "output_type": "display_data"
    }
   ],
   "source": [
    "create_pct_diff_graph(calc_x, calc_y_std, calc_y_rates, calc_y_rates_low, MARS=1, weights= weighted, tab = 'c00100')"
   ]
  },
  {
   "cell_type": "code",
   "execution_count": 191,
   "metadata": {
    "collapsed": false
   },
   "outputs": [
    {
     "name": "stderr",
     "output_type": "stream",
     "text": [
      "/Users/Matt.Jensen/anaconda/envs/taxcalc-dev/lib/python2.7/site-packages/ipykernel/__main__.py:24: FutureWarning: sort(columns=....) is deprecated, use sort_values(by=.....)\n"
     ]
    },
    {
     "data": {
      "image/png": "[encoded data removed]",
      "text/plain": [
       "<matplotlib.figure.Figure at 0x1f9f66550>"
      ]
     },
     "metadata": {},
     "output_type": "display_data"
    }
   ],
   "source": [
    "create_pct_diff_graph(calc_x, calc_y_std, calc_y_rates, calc_y_rates_low, MARS=2, weights= weighted, tab = 'c00100')"
   ]
  },
  {
   "cell_type": "markdown",
   "metadata": {},
   "source": [
    "### percentiles of AGI, including dependents. Note that we are including negatives and nonfilers"
   ]
  },
  {
   "cell_type": "code",
   "execution_count": 192,
   "metadata": {
    "collapsed": true
   },
   "outputs": [],
   "source": [
    "def tab_income(calc, tab): \n",
    "    df = results(calc)\n",
    "    df = add_income_bins(df, 100, tab)\n",
    "    gp = df.groupby('bins', as_index=False)\n",
    "    wdf = gp.apply(weighted, 'c00100')\n",
    "    print_full(wdf[:])"
   ]
  },
  {
   "cell_type": "code",
   "execution_count": 193,
   "metadata": {
    "collapsed": false
   },
   "outputs": [
    {
     "name": "stdout",
     "output_type": "stream",
     "text": [
      "0      -71460.424271\n",
      "1        -103.937434\n",
      "2           0.001000\n",
      "3           0.001000\n",
      "4           0.001000\n",
      "5           0.001000\n",
      "6           0.001000\n",
      "7           0.002093\n",
      "8          36.447018\n",
      "9         351.840469\n",
      "10        879.447198\n",
      "11       1426.520659\n",
      "12       1947.590252\n",
      "13       2455.635987\n",
      "14       2980.233812\n",
      "15       3509.441471\n",
      "16       4038.467778\n",
      "17       4540.257226\n",
      "18       5071.944165\n",
      "19       5654.056466\n",
      "20       6287.005603\n",
      "21       6903.307327\n",
      "22       7569.565345\n",
      "23       8259.145159\n",
      "24       8953.234352\n",
      "25       9641.217595\n",
      "26      10442.882582\n",
      "27      11193.709217\n",
      "28      11939.844621\n",
      "29      12739.595249\n",
      "30      13461.667626\n",
      "31      14127.142661\n",
      "32      14816.625342\n",
      "33      15524.984412\n",
      "34      16217.520214\n",
      "35      16913.788437\n",
      "36      17649.162528\n",
      "37      18412.241006\n",
      "38      19206.190262\n",
      "39      20060.749860\n",
      "40      20986.954168\n",
      "41      21954.445180\n",
      "42      23001.607340\n",
      "43      24109.908735\n",
      "44      25223.636620\n",
      "45      26343.081169\n",
      "46      27272.218322\n",
      "47      28248.283907\n",
      "48      29217.597954\n",
      "49      30254.776640\n",
      "50      31358.939227\n",
      "51      32478.895228\n",
      "52      33686.900793\n",
      "53      35013.809433\n",
      "54      36427.157827\n",
      "55      37839.990853\n",
      "56      39268.181122\n",
      "57      40593.721739\n",
      "58      41906.321596\n",
      "59      43272.728258\n",
      "60      44744.036847\n",
      "61      46275.493939\n",
      "62      47965.920740\n",
      "63      49761.598343\n",
      "64      51656.357305\n",
      "65      53318.964631\n",
      "66      55102.692490\n",
      "67      56898.513008\n",
      "68      58845.198270\n",
      "69      60888.794746\n",
      "70      63119.835714\n",
      "71      65384.145532\n",
      "72      67569.083176\n",
      "73      69822.607477\n",
      "74      72162.385137\n",
      "75      74575.635781\n",
      "76      77218.001796\n",
      "77      80003.324896\n",
      "78      83092.027802\n",
      "79      86507.971161\n",
      "80      90108.260458\n",
      "81      94172.789277\n",
      "82      98160.381781\n",
      "83     102053.581559\n",
      "84     106130.825817\n",
      "85     110482.287680\n",
      "86     115533.805395\n",
      "87     121138.182388\n",
      "88     127754.328056\n",
      "89     133704.230939\n",
      "90     140077.942168\n",
      "91     147385.478704\n",
      "92     156427.636206\n",
      "93     167516.095581\n",
      "94     182079.634304\n",
      "95     201325.336963\n",
      "96     231645.374147\n",
      "97     278829.443538\n",
      "98     366460.330167\n",
      "99    1271151.711625\n",
      "dtype: float64\n"
     ]
    },
    {
     "name": "stderr",
     "output_type": "stream",
     "text": [
      "/Users/Matt.Jensen/anaconda/envs/taxcalc-dev/lib/python2.7/site-packages/ipykernel/__main__.py:24: FutureWarning: sort(columns=....) is deprecated, use sort_values(by=.....)\n"
     ]
    }
   ],
   "source": [
    "tab_income(calc_x, tab = 'c00100')"
   ]
  },
  {
   "cell_type": "markdown",
   "metadata": {},
   "source": [
    "### percentiles of AGI, excluding dependents. Note that we are including negatives and nonfilers"
   ]
  },
  {
   "cell_type": "code",
   "execution_count": 194,
   "metadata": {
    "collapsed": true
   },
   "outputs": [],
   "source": [
    "RES_COLUMNS = STATS_COLUMNS + ['DSI']\n",
    "def tab_income_noDep(calc, tab):\n",
    "    df = results(calc)\n",
    "    df = df[df.DSI!=1]\n",
    "    df = add_income_bins(df, 100, tab)\n",
    "    gp = df.groupby('bins', as_index=False)\n",
    "    wdf = gp.apply(weighted, 'c00100')\n",
    "    print_full(wdf[:])"
   ]
  },
  {
   "cell_type": "code",
   "execution_count": 195,
   "metadata": {
    "collapsed": false
   },
   "outputs": [
    {
     "name": "stdout",
     "output_type": "stream",
     "text": [
      "0      -75494.079850\n",
      "1         -13.699474\n",
      "2           0.001000\n",
      "3           0.001000\n",
      "4           0.001000\n",
      "5           0.001000\n",
      "6           0.001000\n",
      "7           0.001000\n",
      "8          17.587180\n",
      "9         286.943174\n",
      "10        944.858629\n",
      "11       1695.493381\n",
      "12       2428.542282\n",
      "13       3160.015936\n",
      "14       3876.502480\n",
      "15       4584.243202\n",
      "16       5292.161462\n",
      "17       6050.133754\n",
      "18       6819.022357\n",
      "19       7619.227724\n",
      "20       8426.380051\n",
      "21       9208.202113\n",
      "22      10024.497486\n",
      "23      10828.627550\n",
      "24      11598.266234\n",
      "25      12376.079223\n",
      "26      13171.896185\n",
      "27      13853.387105\n",
      "28      14539.572722\n",
      "29      15238.834952\n",
      "30      15940.500042\n",
      "31      16622.127440\n",
      "32      17329.534378\n",
      "33      18069.506390\n",
      "34      18829.962301\n",
      "35      19633.106466\n",
      "36      20500.754343\n",
      "37      21428.470275\n",
      "38      22385.239593\n",
      "39      23435.716687\n",
      "40      24485.158883\n",
      "41      25585.734379\n",
      "42      26577.823899\n",
      "43      27475.636862\n",
      "44      28395.344733\n",
      "45      29320.572342\n",
      "46      30309.707413\n",
      "47      31358.289994\n",
      "48      32415.226646\n",
      "49      33554.560489\n",
      "50      34796.714424\n",
      "51      36124.360829\n",
      "52      37472.139577\n",
      "53      38829.248650\n",
      "54      40105.432001\n",
      "55      41343.612126\n",
      "56      42607.457352\n",
      "57      43957.459723\n",
      "58      45350.898103\n",
      "59      46870.132223\n",
      "60      48487.616647\n",
      "61      50220.592989\n",
      "62      51983.711422\n",
      "63      53543.960155\n",
      "64      55231.546375\n",
      "65      56925.778457\n",
      "66      58755.752739\n",
      "67      60676.349874\n",
      "68      62754.243985\n",
      "69      64916.785407\n",
      "70      66954.795200\n",
      "71      69085.182675\n",
      "72      71230.491321\n",
      "73      73473.140013\n",
      "74      75854.923584\n",
      "75      78410.504091\n",
      "76      81091.686757\n",
      "77      84180.863199\n",
      "78      87407.959590\n",
      "79      90884.127056\n",
      "80      94774.055508\n",
      "81      98477.576826\n",
      "82     102151.707198\n",
      "83     105994.754610\n",
      "84     110052.493871\n",
      "85     114744.735392\n",
      "86     119877.244950\n",
      "87     125979.723849\n",
      "88     131808.031212\n",
      "89     137508.918437\n",
      "90     143932.927656\n",
      "91     151716.074465\n",
      "92     160899.474954\n",
      "93     172579.412705\n",
      "94     187580.927647\n",
      "95     207628.321952\n",
      "96     239964.494614\n",
      "97     287045.344876\n",
      "98     379082.639287\n",
      "99    1321014.409403\n",
      "dtype: float64\n"
     ]
    },
    {
     "name": "stderr",
     "output_type": "stream",
     "text": [
      "/Users/Matt.Jensen/anaconda/envs/taxcalc-dev/lib/python2.7/site-packages/ipykernel/__main__.py:24: FutureWarning: sort(columns=....) is deprecated, use sort_values(by=.....)\n"
     ]
    }
   ],
   "source": [
    "tab_income_noDep(calc_x, tab = 'c00100')"
   ]
  },
  {
   "cell_type": "code",
   "execution_count": null,
   "metadata": {
    "collapsed": true
   },
   "outputs": [],
   "source": []
  },
  {
   "cell_type": "code",
   "execution_count": null,
   "metadata": {
    "collapsed": true
   },
   "outputs": [],
   "source": []
  },
  {
   "cell_type": "code",
   "execution_count": null,
   "metadata": {
    "collapsed": true
   },
   "outputs": [],
   "source": []
  },
  {
   "cell_type": "code",
   "execution_count": null,
   "metadata": {
    "collapsed": true
   },
   "outputs": [],
   "source": []
  },
  {
   "cell_type": "code",
   "execution_count": null,
   "metadata": {
    "collapsed": true
   },
   "outputs": [],
   "source": []
  },
  {
   "cell_type": "code",
   "execution_count": null,
   "metadata": {
    "collapsed": true
   },
   "outputs": [],
   "source": []
  }
 ],
 "metadata": {
  "kernelspec": {
   "display_name": "Python 2",
   "language": "python",
   "name": "python2"
  },
  "language_info": {
   "codemirror_mode": {
    "name": "ipython",
    "version": 2
   },
   "file_extension": ".py",
   "mimetype": "text/x-python",
   "name": "python",
   "nbconvert_exporter": "python",
   "pygments_lexer": "ipython2",
   "version": "2.7.11"
  }
 },
 "nbformat": 4,
 "nbformat_minor": 0
}
